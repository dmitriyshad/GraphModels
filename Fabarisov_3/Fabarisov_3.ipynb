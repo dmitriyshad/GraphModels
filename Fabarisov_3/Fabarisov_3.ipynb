{
 "cells": [
  {
   "cell_type": "code",
   "execution_count": 119,
   "metadata": {
    "collapsed": false
   },
   "outputs": [
    {
     "name": "stdout",
     "output_type": "stream",
     "text": [
      "Populating the interactive namespace from numpy and matplotlib\n"
     ]
    },
    {
     "name": "stderr",
     "output_type": "stream",
     "text": [
      "WARNING: pylab import has clobbered these variables: ['plt']\n",
      "`%matplotlib` prevents importing * from pylab and numpy\n"
     ]
    }
   ],
   "source": [
    "import numpy as np\n",
    "import skimage.io as sk\n",
    "import matplotlib as plt\n",
    "import time\n",
    "from copy import deepcopy as cp\n",
    "\n",
    "%pylab inline"
   ]
  },
  {
   "cell_type": "markdown",
   "metadata": {},
   "source": [
    "gibbsIsing(H, J, betaAll, num_iter, num_neighbors=4)\n",
    "Вход:  \n",
    "• H — внешнее магнитное поле, numpy.array, матрица размера vS x hS;  \n",
    "• J — параметр модели, равен 1 или -1;  \n",
    "• betaAll — вектор значений параметра β, numpy.array, вектор длины num_beta;  \n",
    "• num_iter — количество итераций схемы Гиббса;  \n",
    "• num_neighbors — система соседства, равно 4 или 6;  \n",
    "Функция должна возвращать словарь с ключами ’E’, ’D’, ’M’, ’S’:  \n",
    "• E — значения мат.ожиданий энергии на один спин $\\frac{1}{N}EE$ для каждой температуры, numpy.array, вектор длины num_beta;  \n",
    "• D—значения стандартных отклонений энергии на один спин $\\frac{1}{N}\\sqrt{DE}$ для каждой температуры  \n",
    "• M — значения средней магнетизации на один спин $\\frac{1}{N}Em^2$ для каждой температуры, numpy.array, вектор numpy.array, вектор длины num_beta;  \n",
    "• S — примеры конфигураций X для всех температур, numpy.array размера vS x hS x num_beta.  "
   ]
  },
  {
   "cell_type": "code",
   "execution_count": 68,
   "metadata": {
    "collapsed": true
   },
   "outputs": [],
   "source": [
    "vS = 20\n",
    "hS = 20"
   ]
  },
  {
   "cell_type": "markdown",
   "metadata": {},
   "source": [
    "Чтобы обойтись без матрицы смежности будем представлять решетку двумерным массивом (размера $22*22$ c нулевой границей) и считать соседями элементы, граничащие по стороне таблицы в случае прямоугольной системы соседства, и дополнительно соседями на главной диагонали."
   ]
  },
  {
   "cell_type": "code",
   "execution_count": 210,
   "metadata": {
    "collapsed": true
   },
   "outputs": [],
   "source": [
    "def get_start_x():\n",
    "    x = np.random.binomial(1, 1, (22, 22)) * 2 - 1\n",
    "    x[0,:] = 0\n",
    "    x[vS+1,:] = 0\n",
    "    x[:,0] = 0\n",
    "    x[:, hS+1] = 0\n",
    "    return x"
   ]
  },
  {
   "cell_type": "code",
   "execution_count": 177,
   "metadata": {
    "collapsed": false
   },
   "outputs": [
    {
     "data": {
      "text/plain": [
       "-0.012396694214876033"
      ]
     },
     "execution_count": 177,
     "metadata": {},
     "output_type": "execute_result"
    }
   ],
   "source": [
    "np.mean(get_start_x())"
   ]
  },
  {
   "cell_type": "code",
   "execution_count": 153,
   "metadata": {
    "collapsed": true
   },
   "outputs": [],
   "source": [
    "def get_betaAll():\n",
    "#    return [round(1.0 / i, 3) for i in np.arange(0.5, 10, 0.1)]\n",
    "    return [1.0 / i for i in np.arange(0.5, 10, 0.1)]"
   ]
  },
  {
   "cell_type": "code",
   "execution_count": 75,
   "metadata": {
    "collapsed": false
   },
   "outputs": [],
   "source": [
    "def get_neighb_idxes(i, j, num_neighbors=4):\n",
    "    if (num_neighbors == 4):\n",
    "        return [(i-1, j), (i+1, j), (i, j-1), (i, j+1)]\n",
    "    if (num_neighbors == 6):\n",
    "        return [(i-1, j), (i+1, j), (i, j-1), (i, j+1), (i+1, j-1), (i+1, j+1)]"
   ]
  },
  {
   "cell_type": "code",
   "execution_count": 221,
   "metadata": {
    "collapsed": true
   },
   "outputs": [],
   "source": [
    "def gibbsIsing(H, J, betaAll, num_iter=10000, num_neighbors=4):\n",
    "    H = H.flatten()\n",
    "    start_x = get_start_x()\n",
    "    x = cp(start_x)\n",
    "#    queue = np.random.randint(0, vS*hS, num_iter)\n",
    "    queue = [i % 400 for i in range(num_iter)]\n",
    "    E = dict()\n",
    "    m_sum = dict()\n",
    "    \n",
    "    # начальные значения m_sum и E\n",
    "    for beta in betaAll:\n",
    "        m_sum[beta] = [np.sum(x)]\n",
    "    \n",
    "    if (num_neighbors == 4):\n",
    "        start_E = H.dot(x[1:21, 1:21].flatten()) \n",
    "        for i in range(1, 21):\n",
    "            for j in range(1, 21):\n",
    "                neighb = get_neighb_idxes(i, j, 4)\n",
    "                for idx in neighb:\n",
    "                    start_E -= 0.5 * J * x[(i,j)]*x[idx]\n",
    "        for beta in betaAll:\n",
    "            E[beta] = [start_E]\n",
    "        \n",
    "        # эволюция для каждого beta\n",
    "        for beta in betaAll:\n",
    "            x = cp(start_x)\n",
    "            for x_numb in queue:\n",
    "                i = x_numb / 20 + 1\n",
    "                j = x_numb % 20 + 1\n",
    "                neighb = get_neighb_idxes(i, j, 4)\n",
    "                cur_E = E[beta][-1]\n",
    "                \n",
    "                delta_Ei = 2*H[x_numb]\n",
    "                for idx in neighb:\n",
    "                    delta_Ei += 2 * J * x[idx]\n",
    "                    \n",
    "                prob = 1.0 / (1 + np.exp(-beta*delta_Ei))\n",
    "                x_new = np.random.binomial(1, prob, 1) * 2 - 1 \n",
    "                \n",
    "                E[beta].append(0.5*(x[i,j] - x_new)*delta_Ei + cur_E)\n",
    "                m_sum[beta].append(m_sum[beta][-1] + x_new - x[i,j])\n",
    "                x[i,j] = x_new\n",
    "                \n",
    "    E_mean = [np.mean(E[beta][int(num_iter*0.5):]) / 400.0 for beta in betaAll]\n",
    "    E_std = [np.std(E[beta][int(num_iter*0.5):]) / 400.0 for beta in betaAll]\n",
    "    m_mean = [np.mean(np.array(m_sum[beta][int(num_iter*0.3):])**2) / (400.0**2) for beta in betaAll]\n",
    "    return E_mean, E_std, m_mean"
   ]
  },
  {
   "cell_type": "code",
   "execution_count": null,
   "metadata": {
    "collapsed": false
   },
   "outputs": [],
   "source": [
    "Es = []\n",
    "Ds = []\n",
    "Ms = []\n",
    "for i in range(30):\n",
    "    E, D, M = gibbsIsing(np.zeros(vS*hS), 1, get_betaAll())\n",
    "    Es.append(E)\n",
    "    Ds.append(D)\n",
    "    Ms.append(M)"
   ]
  },
  {
   "cell_type": "code",
   "execution_count": null,
   "metadata": {
    "collapsed": false
   },
   "outputs": [],
   "source": [
    "E = np.mean(np.array(Es) ,axis = 0)\n",
    "print len(E)\n",
    "plt.plot(np.arange(0.5, 10, 0.1), E, color = \"green\")"
   ]
  },
  {
   "cell_type": "code",
   "execution_count": null,
   "metadata": {
    "collapsed": false
   },
   "outputs": [],
   "source": [
    "D = np.mean(np.array(Ds) ,axis = 0)\n",
    "plt.plot(np.arange(0.5, 10, 0.1), D, color = \"blue\")"
   ]
  },
  {
   "cell_type": "code",
   "execution_count": null,
   "metadata": {
    "collapsed": false
   },
   "outputs": [],
   "source": [
    "M = np.mean(np.array(Ms) ,axis = 0)\n",
    "plt.plot(np.arange(0.5, 10, 0.1), M, color = \"red\")"
   ]
  }
 ],
 "metadata": {
  "kernelspec": {
   "display_name": "Python 2",
   "language": "python",
   "name": "python2"
  },
  "language_info": {
   "codemirror_mode": {
    "name": "ipython",
    "version": 2
   },
   "file_extension": ".py",
   "mimetype": "text/x-python",
   "name": "python",
   "nbconvert_exporter": "python",
   "pygments_lexer": "ipython2",
   "version": "2.7.10"
  }
 },
 "nbformat": 4,
 "nbformat_minor": 0
}
